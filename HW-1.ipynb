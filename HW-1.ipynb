{
 "cells": [
  {
   "cell_type": "code",
   "execution_count": 1,
   "id": "19b0d78f-345a-4a21-b99b-5ae8c9d8af74",
   "metadata": {},
   "outputs": [],
   "source": [
    "import numpy as np\n",
    "import pandas as pd\n",
    "\n",
    "from sklearn.feature_extraction import DictVectorizer\n",
    "from sklearn.linear_model import LinearRegression\n",
    "from sklearn.metrics import mean_squared_error\n",
    "\n",
    "import seaborn as sns\n",
    "import matplotlib.pyplot as plt\n",
    "\n",
    "import warnings\n",
    "warnings.filterwarnings(\"ignore\")"
   ]
  },
  {
   "cell_type": "code",
   "execution_count": null,
   "id": "11b72fb3-d75a-4855-b844-32bae26d7491",
   "metadata": {},
   "outputs": [],
   "source": [
    "df = pd.read_parquet('../data/yellow_tripdata_2023-01.parquet')"
   ]
  },
  {
   "cell_type": "code",
   "execution_count": null,
   "id": "35525b1a-42c4-4c5f-bf73-eb7203044dd4",
   "metadata": {},
   "outputs": [],
   "source": [
    "#Question 1. Downloading the data "
   ]
  },
  {
   "cell_type": "code",
   "execution_count": null,
   "id": "d3576f78-3141-47fb-9431-7477faf6ccdf",
   "metadata": {},
   "outputs": [],
   "source": [
    "df.info()"
   ]
  },
  {
   "cell_type": "code",
   "execution_count": null,
   "id": "bf18a1df-b57f-4139-8cab-b09f472e0210",
   "metadata": {},
   "outputs": [],
   "source": [
    "df['duration'] = df.tpep_dropoff_datetime - df.tpep_pickup_datetime\n",
    "df.duration = df.duration.apply(lambda td: td.total_seconds() / 60)"
   ]
  },
  {
   "cell_type": "code",
   "execution_count": null,
   "id": "e263a3e1-3d41-4dfa-8ba5-cfdad94d0b34",
   "metadata": {},
   "outputs": [],
   "source": [
    "#Question 2. Computing duration"
   ]
  },
  {
   "cell_type": "code",
   "execution_count": null,
   "id": "a8f0961a-7ab4-489a-b7de-96dd5e61fcc9",
   "metadata": {},
   "outputs": [],
   "source": [
    "df.duration.std()"
   ]
  },
  {
   "cell_type": "code",
   "execution_count": null,
   "id": "8d4fd4ed-795e-464e-b851-e85bf2d9d281",
   "metadata": {},
   "outputs": [],
   "source": [
    "# Question 3. Dropping outliers "
   ]
  },
  {
   "cell_type": "code",
   "execution_count": null,
   "id": "995eaac1-b222-44a6-9a2e-f8678dcd2521",
   "metadata": {},
   "outputs": [],
   "source": [
    "prev_len = len(df)"
   ]
  },
  {
   "cell_type": "code",
   "execution_count": null,
   "id": "71a237e9-4f6f-4f7d-a54b-ec180d4af896",
   "metadata": {},
   "outputs": [],
   "source": [
    "df = df[(df.duration >= 1) & (df.duration <= 60)]"
   ]
  },
  {
   "cell_type": "code",
   "execution_count": null,
   "id": "e7a78dbb-f167-437d-a224-65e01d513f32",
   "metadata": {},
   "outputs": [],
   "source": [
    "print(f'Number of records remaining: {1-(prev_len - len(df))/prev_len}')"
   ]
  },
  {
   "cell_type": "code",
   "execution_count": null,
   "id": "b4886fff-e51f-4ef5-b6d7-45a41beb211f",
   "metadata": {},
   "outputs": [],
   "source": [
    "# Question 4. One-hot encoding "
   ]
  },
  {
   "cell_type": "code",
   "execution_count": null,
   "id": "a6a2ddf6-efaa-452a-b81c-6c283eaf5a2d",
   "metadata": {},
   "outputs": [],
   "source": [
    "categorical = ['PULocationID', 'DOLocationID']\n",
    "df[categorical] = df[categorical].astype(str)\n",
    "train_dicts = df[categorical].to_dict(orient='records')\n",
    "dv = DictVectorizer()\n",
    "X_train = dv.fit_transform(train_dicts)\n",
    "print(f'Feature matrix size: {X_train.shape}')"
   ]
  },
  {
   "cell_type": "code",
   "execution_count": null,
   "id": "3090e39d-38cc-41d4-b63c-7956c7bb631d",
   "metadata": {},
   "outputs": [],
   "source": [
    "target = 'duration'\n",
    "y_train = df[target].values"
   ]
  },
  {
   "cell_type": "code",
   "execution_count": null,
   "id": "996d9b6f-cc0a-44cd-8aa6-353ddbaf292c",
   "metadata": {},
   "outputs": [],
   "source": [
    "lr = LinearRegression()\n",
    "lr.fit(X_train, y_train)\n",
    "\n",
    "y_pred = lr.predict(X_train)\n",
    "\n",
    "print(f'Train RMSE: {mean_squared_error(y_train, y_pred, squared=False)}')"
   ]
  },
  {
   "cell_type": "code",
   "execution_count": null,
   "id": "eed3fe82-7ac6-4837-a1ae-b513eecd81c3",
   "metadata": {},
   "outputs": [],
   "source": [
    "sns.distplot(y_pred, label='prediction')\n",
    "sns.distplot(y_train, label='actual')\n",
    "\n",
    "plt.legend();"
   ]
  },
  {
   "cell_type": "code",
   "execution_count": null,
   "id": "ccc1f0b8-263a-4f53-8ec4-f2ac6e756a37",
   "metadata": {},
   "outputs": [],
   "source": [
    "# Question 6. Evaluating the model. RMSE on validation "
   ]
  },
  {
   "cell_type": "code",
   "execution_count": 28,
   "id": "61123c46-dcd2-4602-bc31-2b93ae37a53e",
   "metadata": {},
   "outputs": [],
   "source": [
    "def read_dataframe(filename):\n",
    "    if filename.endswith('.csv'):\n",
    "        df = pd.read_csv(filename)\n",
    "\n",
    "        df.tpep_dropoff_datetime = pd.to_datetime(df.tpep_dropoff_datetime)\n",
    "        df.tpep_pickup_datetime = pd.to_datetime(df.tpep_pickup_datetime)\n",
    "    elif filename.endswith('.parquet'):\n",
    "        df = pd.read_parquet(filename)\n",
    "\n",
    "    df['duration'] = df.tpep_dropoff_datetime - df.tpep_pickup_datetime\n",
    "    df.duration = df.duration.apply(lambda td: td.total_seconds() / 60)\n",
    "\n",
    "    df = df[(df.duration >= 1) & (df.duration <= 60)]\n",
    "\n",
    "    categorical = ['PULocationID', 'DOLocationID']\n",
    "    df[categorical] = df[categorical].astype(str)\n",
    "    \n",
    "    return df"
   ]
  },
  {
   "cell_type": "code",
   "execution_count": 29,
   "id": "66365532-a89f-42c6-8dfc-9c089f90d6be",
   "metadata": {},
   "outputs": [],
   "source": [
    "df_val = read_dataframe('../data/yellow_tripdata_2023-02.parquet')"
   ]
  },
  {
   "cell_type": "code",
   "execution_count": 30,
   "id": "bf9dd074-52a9-46c5-bfa3-7019bbe48065",
   "metadata": {},
   "outputs": [],
   "source": [
    "df_train = read_dataframe('../data/yellow_tripdata_2023-01.parquet')"
   ]
  },
  {
   "cell_type": "code",
   "execution_count": 31,
   "id": "5e15831c-497b-40dc-bceb-fdda26b13a56",
   "metadata": {},
   "outputs": [],
   "source": [
    "categorical = ['PULocationID', 'DOLocationID']\n",
    "numerical = ['trip_distance']\n",
    "\n",
    "dv = DictVectorizer()\n",
    "\n",
    "train_dicts = df_train[categorical + numerical].to_dict(orient='records')\n",
    "X_train = dv.fit_transform(train_dicts)\n",
    "\n",
    "val_dicts = df_val[categorical + numerical].to_dict(orient='records')\n",
    "X_val = dv.transform(val_dicts)"
   ]
  },
  {
   "cell_type": "code",
   "execution_count": 32,
   "id": "68d83137-0c8c-4c97-bc51-d09e74a1a228",
   "metadata": {},
   "outputs": [
    {
     "data": {
      "text/plain": [
       "((2855951, 516), (3009173, 516))"
      ]
     },
     "execution_count": 32,
     "metadata": {},
     "output_type": "execute_result"
    }
   ],
   "source": [
    "X_val.shape, X_train.shape"
   ]
  },
  {
   "cell_type": "code",
   "execution_count": 33,
   "id": "0e7ea901-3f7b-4312-b1c5-382e9838dd45",
   "metadata": {},
   "outputs": [],
   "source": [
    "target = 'duration'\n",
    "y_train = df_train[target].values\n",
    "y_val = df_val[target].values"
   ]
  },
  {
   "cell_type": "code",
   "execution_count": 25,
   "id": "7fac336d-230a-4fd6-8360-cceca65e8427",
   "metadata": {},
   "outputs": [
    {
     "data": {
      "text/plain": [
       "5.026739072111905"
      ]
     },
     "execution_count": 25,
     "metadata": {},
     "output_type": "execute_result"
    }
   ],
   "source": [
    "lr = LinearRegression()\n",
    "lr.fit(X_train, y_train)\n",
    "\n",
    "y_pred = lr.predict(X_train)\n",
    "\n",
    "mean_squared_error(y_train, y_pred, squared=False)"
   ]
  },
  {
   "cell_type": "code",
   "execution_count": 26,
   "id": "946f62cc-c735-4b35-a081-65daf8632a29",
   "metadata": {},
   "outputs": [
    {
     "data": {
      "text/plain": [
       "5.198560213447683"
      ]
     },
     "execution_count": 26,
     "metadata": {},
     "output_type": "execute_result"
    }
   ],
   "source": [
    "y_pred = lr.predict(X_train)\n",
    "\n",
    "mean_squared_error(y_val, y_pred, squared=False)"
   ]
  },
  {
   "cell_type": "code",
   "execution_count": null,
   "id": "e779e5a6-1e99-42af-92b1-ff5db67dbc70",
   "metadata": {},
   "outputs": [],
   "source": []
  }
 ],
 "metadata": {
  "kernelspec": {
   "display_name": "Python 3 (ipykernel)",
   "language": "python",
   "name": "python3"
  },
  "language_info": {
   "codemirror_mode": {
    "name": "ipython",
    "version": 3
   },
   "file_extension": ".py",
   "mimetype": "text/x-python",
   "name": "python",
   "nbconvert_exporter": "python",
   "pygments_lexer": "ipython3",
   "version": "3.12.3"
  }
 },
 "nbformat": 4,
 "nbformat_minor": 5
}
